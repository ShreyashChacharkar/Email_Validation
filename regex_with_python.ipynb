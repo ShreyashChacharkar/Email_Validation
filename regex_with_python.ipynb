{
 "cells": [
  {
   "cell_type": "markdown",
   "metadata": {},
   "source": [
    "## RegEX\n",
    "\n",
    "A Regular Expression (RegEx) is a sequence of characters that use to search pattern from string data.\n",
    "\n",
    "For ex: `^s..e*...h$` match with string start with `s`, end with `h` and checking fourth character would be `e` with `*` zero or more occurences\n",
    "\n",
    "Match: `shreeyash`\n",
    "Match: `shreyanh`\n",
    "Match: `sreyanh`\n",
    "Not match: `Shreyash`\n",
    "Not match: `Shre yash`\n",
    "\n",
    "**re module**\n",
    "\n",
    "Python has a built-in package called `re`, which can be used to work with Regular Expressions\n",
    "\n",
    "**syntax**\n",
    "\n",
    "```python\n",
    "import re\n"
   ]
  },
  {
   "cell_type": "markdown",
   "metadata": {},
   "source": [
    "## Match\n"
   ]
  },
  {
   "cell_type": "code",
   "execution_count": 1,
   "metadata": {},
   "outputs": [
    {
     "name": "stdout",
     "output_type": "stream",
     "text": [
      "<re.Match object; span=(0, 9), match='shreeyash'>\n"
     ]
    }
   ],
   "source": [
    "import re\n",
    "\n",
    "pattern = '^s..e*...h$'\n",
    "string_data = 'shreeyash'\n",
    "\n",
    "# re.match() function returns a match object if the search is successful. If not, it returns None\n",
    "match_object_5 = re.match(pattern, string_data)\n",
    "print(match_object_5)\n"
   ]
  },
  {
   "cell_type": "markdown",
   "metadata": {},
   "source": [
    "## Search"
   ]
  },
  {
   "cell_type": "code",
   "execution_count": 2,
   "metadata": {},
   "outputs": [
    {
     "name": "stdout",
     "output_type": "stream",
     "text": [
      "<re.Match object; span=(0, 8), match='shreyanh'>\n"
     ]
    }
   ],
   "source": [
    "string_data = 'shreyanh'\n",
    "\n",
    "# re.search() function returns a match object if the search is successful. If not, it returns None\n",
    "match_object_6 = re.search(pattern, string_data)\n",
    "print(match_object_6)\n"
   ]
  },
  {
   "cell_type": "code",
   "execution_count": 3,
   "metadata": {},
   "outputs": [
    {
     "name": "stdout",
     "output_type": "stream",
     "text": [
      "None\n"
     ]
    }
   ],
   "source": [
    "string_data = 'Shreyash'\n",
    "\n",
    "# re.match() function returns a match object if the search is successful. If not, it returns None\n",
    "match_object_6 = re.match(pattern, string_data)\n",
    "print(match_object_6)"
   ]
  },
  {
   "cell_type": "markdown",
   "metadata": {},
   "source": [
    "## Types of Regular Expression Characters\n",
    "\n",
    "Regular expressions are made up of both ordinary and special characters. Ordinary characters simply match themselves, while special characters have a more specific meaning.\n",
    "\n",
    "| Type | Description | Example |\n",
    "|---|---|---|\n",
    "| **Ordinary character** | Matches itself | `A` matches the letter `A` |\n",
    "| **Special character** | Has a specific meaning | `.` matches any character |\n",
    "| **Quantifier** | Indicates how many times a character or group of characters can be matched | `*` matches zero or more occurrences of the preceding character |\n",
    "| **Grouping** | Allows you to group together characters or expressions | `(A|B)` matches either `A` or `B` |\n",
    "| **Escape character** | Escapes the special meaning of a character | `\\.` matches the literal character `.` |\n",
    "\n",
    "For example, the regular expression `\\d{3}-\\d{3}-\\d{4}` matches any string that contains three digits, a hyphen, three more digits, and a hyphen, followed by four digits. This regular expression could be used to match a phone number.\n",
    "\n",
    "The special characters can be used to create more complex regular expressions that can match a wider variety of strings.\n"
   ]
  },
  {
   "cell_type": "markdown",
   "metadata": {},
   "source": [
    "## Square Brackets in Regular Expressions\n",
    "\n",
    "Square brackets (`[]`) are used to specify a group of ordinary characters to search from data. The characters can be listed individually or ranges of characters can be indicated by giving two characters and separating them by a '-'. Special characters lose their special meaning inside sets. For example, `[(+*)]` will match any of the literal characters '(', '+', '*', or ')'.\n",
    "\n",
    "Here are some examples of how square brackets can be used in regular expressions:\n",
    "\n",
    "* `[123]` will match any of the digits 1, 2, or 3.\n",
    "* `[a-z]` will match any of the lowercase letters from a to z.\n",
    "* `[0-9a-zA-Z]` will match any of the digits from 0 to 9, or any of the lowercase or uppercase letters from a to z.\n",
    "* `[^5]` will match any character except '5'.\n",
    "\n",
    "Square brackets can be a powerful tool for matching patterns in text. They can be used to match a wide variety of characters, and they can be used to complement sets of characters.\n",
    "\n",
    "Here are some additional resources that you may find helpful:\n",
    "\n",
    "* [Regular Expressions Tutorial](https://www.w3schools.com/python/python_regex.asp)\n",
    "* [Python Regular Expressions HOWTO](https://docs.python.org/3/howto/regex.html)\n",
    "* [Regular Expressions Cookbook](https://www.regular-expressions.info/)\n"
   ]
  },
  {
   "cell_type": "code",
   "execution_count": null,
   "metadata": {},
   "outputs": [],
   "source": []
  },
  {
   "cell_type": "markdown",
   "metadata": {},
   "source": [
    "\n",
    "## Other Special Sequences\n",
    "\n",
    "The following special sequences can be used in regular expressions:\n",
    "\n",
    "* `\\d` Matches any Unicode decimal digit (Similare to `[0-9]`)\n",
    "* `\\D` Matches any Unicode non decimal digit (Similare to `[^\\d]`)\n",
    "* `\\s` - Matches where a string contains any whitespace character.(Similare to `[ \\t\\n\\r\\f\\v]`)\n",
    "* `\\S` - Matches where a string contains any non-whitespace character.(Similare to `[^\\t\\n\\r\\f\\v]`)\n",
    "* `\\w` - Matches Unicode alphanumeric characters any characters that can be part of a word in any language, as well as numbers and the underscore. (Similare to `[a-zA-Z0-9_]`)\n",
    "* `\\W` - Matches Unicode non-alphanumeric characters. (Similare to `[^\\w]`)\n",
    "* `\\Z` Matches only at the end of the string\n",
    "\n",
    "For example, the regular expression `\\d{3}-\\d{3}-\\d{4}` matches any string that contains three digits, a hyphen, three more digits, and a hyphen, followed by four digits. This regular expression could be used to match a phone number.\n",
    "\n",
    "The special sequences can be used to create more complex regular expressions that can match a wider variety of strings.\n"
   ]
  },
  {
   "cell_type": "markdown",
   "metadata": {},
   "source": [
    "## Sub"
   ]
  },
  {
   "cell_type": "code",
   "execution_count": 4,
   "metadata": {},
   "outputs": [
    {
     "name": "stdout",
     "output_type": "stream",
     "text": [
      "My phone is *********\n"
     ]
    }
   ],
   "source": [
    "\n",
    "pattern = '[0-9]'\n",
    "string_data = 'My phone is 123456734'\n",
    "masked_data=re.sub(pattern, '*',string_data)\n",
    "print(masked_data)"
   ]
  },
  {
   "cell_type": "code",
   "execution_count": 20,
   "metadata": {},
   "outputs": [
    {
     "name": "stdout",
     "output_type": "stream",
     "text": [
      "*************************************************************************************\n"
     ]
    }
   ],
   "source": [
    "#(Dot.) - Period\n",
    "#In the default mode, this matches any character except a newline(\\n). If the DOTALL flag has been specified, this matches any character including a newline.\n",
    "pattern = '.'\n",
    "string_data = 'Shreyash phone is +123456734 and Shreyash Adhar card no. is 34554 5446 78435 Shreyash'\n",
    "masked_data=re.sub(pattern, '*',string_data)\n",
    "print(masked_data)"
   ]
  },
  {
   "cell_type": "code",
   "execution_count": 21,
   "metadata": {},
   "outputs": [
    {
     "name": "stdout",
     "output_type": "stream",
     "text": [
      "* phone is +123456734 and Shreyash Adhar card no. is 34554 5446 78435 Shreyash\n"
     ]
    }
   ],
   "source": [
    "#^ - Caret\n",
    "#(Caret.) Matches the start of the string, and in MULTILINE mode also matches immediately after each newline.\n",
    "pattern = '^Shreyash'\n",
    "masked_data=re.sub(pattern, '*',string_data)\n",
    "print(masked_data)"
   ]
  },
  {
   "cell_type": "code",
   "execution_count": 22,
   "metadata": {},
   "outputs": [
    {
     "name": "stdout",
     "output_type": "stream",
     "text": [
      "* phone is +123456734 and Shreyash Adhar card no. is 34554 5446 78435 Shreyash\n"
     ]
    }
   ],
   "source": [
    "pattern = '^........'\n",
    "masked_data=re.sub(pattern, '*',string_data)\n",
    "print(masked_data)"
   ]
  },
  {
   "cell_type": "code",
   "execution_count": 23,
   "metadata": {},
   "outputs": [
    {
     "name": "stdout",
     "output_type": "stream",
     "text": [
      "Shreyash phone is +123456734 and Shreyash Adhar card no. is 34554 5446 78435*\n"
     ]
    }
   ],
   "source": [
    "#$ - Dollar\n",
    "#Matches the end of the string or just before the newline at the end of the string,\n",
    "#and in MULTILINE mode also matches before a newline.\n",
    "pattern = '.........$'\n",
    "redact_data=re.sub(pattern, '*',string_data)\n",
    "print(redact_data)"
   ]
  },
  {
   "cell_type": "code",
   "execution_count": 24,
   "metadata": {},
   "outputs": [
    {
     "name": "stdout",
     "output_type": "stream",
     "text": [
      "Shreyash phone is +123456734 and Shreyash Adhar card no. is 34554 5446 78435 Shreyash\n"
     ]
    }
   ],
   "source": [
    "pattern = '35$'\n",
    "redact_data=re.sub(pattern, '*',string_data)\n",
    "print(redact_data)"
   ]
  },
  {
   "cell_type": "code",
   "execution_count": 25,
   "metadata": {},
   "outputs": [
    {
     "name": "stdout",
     "output_type": "stream",
     "text": [
      "Shreyash phone is +12*6734 and Shreyash Adhar card no. is *54 5446 784* Shreyash\n"
     ]
    }
   ],
   "source": [
    "#* - Star\n",
    "#Matches zero or more occurrences of the pattern left to it, as many repetitions as are possible. ab* will match ‘a’, ‘ab’, or ‘a’ followed by any number of ‘b’s\n",
    "pattern = '34*5'\n",
    "redact_data=re.sub(pattern, '*',string_data)\n",
    "print(redact_data)"
   ]
  },
  {
   "cell_type": "code",
   "execution_count": 26,
   "metadata": {},
   "outputs": [
    {
     "name": "stdout",
     "output_type": "stream",
     "text": [
      "Shreyash phone is +12*6734 and Shreyash Adhar card no. is *54 5446 78435 Shreyash\n"
     ]
    }
   ],
   "source": [
    "#+ - Plus\n",
    "#Matches one or more occurrences of the pattern left to it, as many repetitions as are possible. ab+ will match ‘a’ followed by any non-zero number of ‘b’s; it will not match just ‘a’.\n",
    "pattern = '34+5'\n",
    "\n",
    "redact_data=re.sub(pattern, '*',string_data)\n",
    "print(redact_data)"
   ]
  },
  {
   "cell_type": "code",
   "execution_count": 27,
   "metadata": {},
   "outputs": [
    {
     "name": "stdout",
     "output_type": "stream",
     "text": [
      "Shreyash phone is +12*6734 and Shreyash Adhar card no. is *54 5446 784* Shreyash\n"
     ]
    }
   ],
   "source": [
    "#? - Question Mark\n",
    "#Matches zero or one occurrences of the pattern left to it, as many repetitions as are possible. ab? will match either ‘a’ or ‘ab’\n",
    "pattern = '34?5'\n",
    "redact_data=re.sub(pattern, '*',string_data)\n",
    "print(redact_data)"
   ]
  },
  {
   "cell_type": "code",
   "execution_count": 28,
   "metadata": {},
   "outputs": [
    {
     "name": "stdout",
     "output_type": "stream",
     "text": [
      "Shreyash phone is +123456734 and Shreyash Adhar card no. is 34554 5*6 78435 Shreyash\n"
     ]
    }
   ],
   "source": [
    "#{} - Braces\n",
    "#a{m,n} Causes the resulting RE to match from m to n (least m, and at most n) repetitions of the preceding RE, attempting to match as many repetitions as possible. For example, a{3,5} will match from aaa, aaaa, aaaaa characters\n",
    "\n",
    "pattern = '4{2,3}'\n",
    "redact_data=re.sub(pattern, '*',string_data)\n",
    "print(redact_data)\n"
   ]
  },
  {
   "cell_type": "code",
   "execution_count": 29,
   "metadata": {},
   "outputs": [
    {
     "name": "stdout",
     "output_type": "stream",
     "text": [
      "Shreyash phone is +12*4*67*4 and Shreyash Adhar card no. is *4**4 *446 784** Shreyash\n"
     ]
    }
   ],
   "source": [
    "#| - or operator\n",
    "pattern = '3|5'\n",
    "redact_data=re.sub(pattern, '*',string_data)\n",
    "print(redact_data)"
   ]
  },
  {
   "cell_type": "code",
   "execution_count": 30,
   "metadata": {},
   "outputs": [
    {
     "name": "stdout",
     "output_type": "stream",
     "text": [
      "Shreyash phone is +123*6734 and Shreyash Adhar card no. is 3*54 5446 784* Shreyash\n"
     ]
    }
   ],
   "source": [
    "#() - Group\n",
    "#Matches whatever regular expression is inside the parentheses, and indicates the start and end of a group\n",
    "pattern = '(3|4)5'\n",
    "redact_data=re.sub(pattern, '*',string_data)\n",
    "print(redact_data)"
   ]
  },
  {
   "cell_type": "code",
   "execution_count": 31,
   "metadata": {},
   "outputs": [
    {
     "name": "stdout",
     "output_type": "stream",
     "text": [
      "Shreyash phone is +123456734 and Shreyash Adhar card no. is 34554 5446 78435 Shreyash\n"
     ]
    }
   ],
   "source": [
    "#\\ - Backslash\n",
    "#Either escapes special characters (permitting you to match characters like '*', '?', and so forth), or signals a special sequence\n",
    "\n",
    "pattern = '\\+3' #\\+3 match if + is followed by 3 and + is not consider as special character by RegEx engine.\n",
    "redact_data=re.sub(pattern, '*',string_data)\n",
    "print(redact_data)"
   ]
  },
  {
   "cell_type": "code",
   "execution_count": 32,
   "metadata": {},
   "outputs": [
    {
     "name": "stdout",
     "output_type": "stream",
     "text": [
      "Shreyash phone is +123456734 and Shreyash Adhar card no* is 34554 5446 78435 Shreyash\n"
     ]
    }
   ],
   "source": [
    "pattern = '\\.'\n",
    "redact_data=re.sub(pattern, '*',string_data)\n",
    "print(redact_data)"
   ]
  },
  {
   "cell_type": "code",
   "execution_count": 33,
   "metadata": {},
   "outputs": [
    {
     "name": "stdout",
     "output_type": "stream",
     "text": [
      "*yash phone is +123456734 and Shreyash Adhar card no. is 34554 5446 78435 Shreyash\n"
     ]
    }
   ],
   "source": [
    "#Special Sequences\n",
    "#\\A Matches only at the start of the string.\n",
    "pattern = '\\AShre'\n",
    "redact_data=re.sub(pattern, '*',string_data)\n",
    "print(redact_data)"
   ]
  },
  {
   "cell_type": "code",
   "execution_count": 34,
   "metadata": {},
   "outputs": [
    {
     "name": "stdout",
     "output_type": "stream",
     "text": [
      "*eyash phone is +123456734 and *eyash Adhar card no. is 34554 5446 78435 *eyash\n"
     ]
    }
   ],
   "source": [
    "#\\b - Matches if the specified characters are at the beginning or end of a word.\n",
    "pattern = r'\\bShr'\n",
    "redact_data=re.sub(pattern, '*',string_data)\n",
    "print(redact_data)"
   ]
  },
  {
   "cell_type": "code",
   "execution_count": 36,
   "metadata": {},
   "outputs": [],
   "source": [
    "string_data ='''Shreyash phone is +123456734 andShreyash Adhar card no. is 34554 5446 78435'''"
   ]
  },
  {
   "cell_type": "code",
   "execution_count": 37,
   "metadata": {},
   "outputs": [
    {
     "name": "stdout",
     "output_type": "stream",
     "text": [
      "Shreyash phone is +123456734 and*yash Adhar card no. is 34554 5446 78435\n"
     ]
    }
   ],
   "source": [
    "#\\B - is opposite to \\b, Matches if the specified characters are not at the beginning or end of a word.\n",
    "pattern = r'\\BShre'\n",
    "redact_data=re.sub(pattern, '*',string_data)\n",
    "print(redact_data)"
   ]
  },
  {
   "cell_type": "markdown",
   "metadata": {},
   "source": [
    "## Recall"
   ]
  },
  {
   "cell_type": "code",
   "execution_count": null,
   "metadata": {},
   "outputs": [],
   "source": []
  },
  {
   "cell_type": "markdown",
   "metadata": {},
   "source": [
    "## RegeX module methods\n",
    "* **re.findall()**: 'This method returns all non-overlapping matches of pattern in string, as a list of strings or tuples. The string is scanned left-to-right, and matches are returned in the order found. Empty matches are included in the result. The result depends on the number of capturing groups in the pattern. If there are no groups, return a list of strings matching the whole pattern. If there is exactly one group, return a list of strings matching that group. If multiple groups are present, return a list of tuples of strings matching the groups. Non-capturing groups do not affect the form of the result.'\n",
    "\n",
    "* **re.split()**: 'Split string by the occurrences of pattern. If capturing parentheses are used in pattern, then the text of all groups in the pattern are also returned as part of the resulting list you can pass maxsplit argument in split() method, If maxsplit is nonzero, at most maxsplit splits occur, and the remainder of the string is returned as the final element of the list.'\n",
    "\n",
    "* **re.sub()**: This method returns the string obtained by replacing the leftmost non-overlapping occurrences of pattern in string by the replacement repl. If the pattern isn’t found, string is returned unchanged. count You can pass optional argument count is the maximum number of pattern occurrences to be replaced\n",
    "\n",
    "* **re.search()**: Scan through string looking for the first location where the regular expression pattern produces a match, and return a corresponding match object. Return None if no position in the string matches the pattern; note that this is different from finding a zero-length match at some point in the string.\n",
    "\n",
    "* **re.match(pattern, string, flags=0)**: If zero or more characters at the beginning of string match the regular expression pattern, return a corresponding match object. Return None if the string does not match the pattern; note that this is different from a zero-length match.Note that even in MULTILINE mode, re.match() will only match at the beginning of the string and not at the beginning of each line.If you want to locate a match anywhere in string, use search()\n",
    "\n",
    "**Match objects**: Match objects always have a boolean value of True. Since match() and search() return None when there is no match\n",
    "\n",
    "**Match.start() and Match.end()**:Return the indices of the start and end of the substring matched by group; group defaults to zero (meaning the whole matched substring). Return -1 if group exists but did not contribute to the match\n",
    "\n",
    "**re.search() vs re.match()**: They Both functions are very efficient and fast for searching in strings. Both functions searches for substring in a string and returns a match object if found, else it returns none.\n",
    "\n",
    "**Difference between re.search() vs re.match()**: Both functions return the first match of a substring found in the string,\n",
    "\n",
    "but re.match() searches only from the beginning of the string and return match object if found. But if a match of substring is found somewhere in the middle of the string, it returns none.\n",
    "\n",
    "While re.search() searches for the whole string even if the string contains multi-lines and tries to find a match of the substring in all the lines of string."
   ]
  },
  {
   "cell_type": "code",
   "execution_count": null,
   "metadata": {},
   "outputs": [],
   "source": []
  }
 ],
 "metadata": {
  "kernelspec": {
   "display_name": "Python 3",
   "language": "python",
   "name": "python3"
  },
  "language_info": {
   "codemirror_mode": {
    "name": "ipython",
    "version": 3
   },
   "file_extension": ".py",
   "mimetype": "text/x-python",
   "name": "python",
   "nbconvert_exporter": "python",
   "pygments_lexer": "ipython3",
   "version": "3.8.5"
  }
 },
 "nbformat": 4,
 "nbformat_minor": 4
}
